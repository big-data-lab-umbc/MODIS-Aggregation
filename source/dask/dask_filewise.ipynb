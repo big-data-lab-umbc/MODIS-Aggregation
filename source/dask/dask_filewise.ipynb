{
 "cells": [
  {
   "cell_type": "code",
   "execution_count": 1,
   "metadata": {},
   "outputs": [],
   "source": [
    "import pandas as pd\n",
    "import numpy as np\n",
    "import dask.array as da\n",
    "import dask.dataframe as dd\n",
    "import time\n",
    "import math\n",
    "#import graphviz\n",
    "from netCDF4 import Dataset\n",
    "import os,datetime,sys,fnmatch\n",
    "import h5py"
   ]
  },
  {
   "cell_type": "code",
   "execution_count": 2,
   "metadata": {},
   "outputs": [],
   "source": [
    "def read_filelist(loc_dir,prefix,unie,fileformat):\n",
    "    # Read the filelist in the specific directory\n",
    "    str = os.popen(\"ls \"+ loc_dir + prefix + unie + \"*.\"+fileformat).read()\n",
    "    fname = np.array(str.split(\"\\n\"))\n",
    "    fname = np.delete(fname,len(fname)-1)\n",
    "    \n",
    "    return fname\n",
    "\n",
    "def read_MODIS(fname1,fname2,verbose=False): # READ THE HDF FILE\n",
    "    # Read the cloud mask from MYD06_L2 product')\n",
    "    ncfile=Dataset(fname1,'r')\n",
    "    CM1km = np.array(ncfile.variables['Cloud_Mask_1km'])\n",
    "    CM   = (np.array(CM1km[:,:,0],dtype='byte') & 0b00000110) >>1\n",
    "    #ncfile = Dataset(fname1, \"r\")\n",
    "    #CM = myd06.variables[\"Cloud_Mask_1km\"][:,:,:] # Reading Specific Variable 'Cloud_Mask_1km'.\n",
    "    #CM   = (np.array(CM[:,:,0],dtype='byte') & 0b00000110) >>1\n",
    "    ncfile.close()\n",
    "    \n",
    "    ncfile=Dataset(fname2,'r')\n",
    "    lat  = np.array(ncfile.variables['Latitude'])\n",
    "    lon  = np.array(ncfile.variables['Longitude'])\n",
    "    #ncfile = Dataset(MOD03_files, \"r\")\n",
    "    #latitude = myd03.variables[\"Latitude\"][:,:] # Reading Specific Variable 'Latitude'.\n",
    "    #latitude = np.array(latitude).byteswap().newbyteorder() # Addressing Byteswap For Big Endian Error.\n",
    "    #longitude = myd03.variables[\"Longitude\"][:,:] # Reading Specific Variable 'Longitude'.\n",
    "    attr_lat = ncfile.variables['Latitude']._FillValue\n",
    "    attr_lon = ncfile.variables['Longitude']._FillValue\n",
    "    \"\"\"#Use _FillValue to remove fill data in lat & lon\n",
    "    lat[np.where(lat == attr_lat)] = 0.0\n",
    "    lon[np.where(lat == attr_lat)] = 0.0\n",
    "    CM [np.where(lat == attr_lat)] = 0.5 #which will not be identified by lines 80-83 \n",
    "    lat[np.where(lon == attr_lon)] = 0.0\n",
    "    lon[np.where(lon == attr_lon)] = 0.0\n",
    "    CM [np.where(lon == attr_lon)] = 0.5 #which will not be identified by lines 80-83\n",
    "    ncfile.close()\"\"\"\n",
    "    return lat,lon,CM"
   ]
  },
  {
   "cell_type": "code",
   "execution_count": 3,
   "metadata": {},
   "outputs": [],
   "source": [
    "def value_locate(refx, x):\n",
    "    refx = np.array(refx)\n",
    "    x = np.array(x)\n",
    "    loc = np.zeros(len(x), dtype='int')\n",
    "    \n",
    "    for i in np.arange(len(x)):\n",
    "        ix = x[i]\n",
    "        ind = ((refx - ix) <= 0).nonzero()[0]\n",
    "        if len(ind) == 0:\n",
    "            loc[i] = -1\n",
    "        else: loc[i] = ind[-1]\n",
    "\n",
    "    return loc\n",
    "\n",
    "def division(n, d):\n",
    "\n",
    "    div = np.zeros(len(d))\n",
    "    for i in range(len(d)):\n",
    "        if d[i] >0:\n",
    "          div[i]=n[i]/d[i]\n",
    "        else: div[i]=None \n",
    "\n",
    "    return div\n",
    "\n",
    "def countzero(x, axis=1):\n",
    "    #print(x)\n",
    "    count0 = 0\n",
    "    count1 = 0\n",
    "    for i in x:\n",
    "        if i <= 1:\n",
    "            count0 +=1\n",
    "    #print(count0/len(x))\n",
    "    return (count0/len(x))\n",
    "\n",
    "satellite = 'Aqua'\n",
    "\n",
    "yr = [2008]\n",
    "mn = [1] #np.arange(1,13)  #[1]\n",
    "dy = [1] #np.arange(1,32) # [1] #np.arange(1,31)\n",
    "lat_bnd = np.arange(-90,91,1)# latitude and longtitude boundaries of level-3 grid\n",
    "lon_bnd = np.arange(-180,180,1)\n",
    "nlat = 180\n",
    "nlon = 360\n",
    "\n",
    "TOT_pix      = np.zeros(nlat*nlon)\n",
    "CLD_pix      = np.zeros(nlat*nlon)"
   ]
  },
  {
   "cell_type": "code",
   "execution_count": 4,
   "metadata": {},
   "outputs": [
    {
     "name": "stdout",
     "output_type": "stream",
     "text": [
      "steps:  1 /  ['/Users/dprakas1/Desktop/modis_files/MYD06_L2.A2008001.0000.006.2013341193524.hdf'\n",
      " '/Users/dprakas1/Desktop/modis_files/MYD06_L2.A2008001.0005.006.2013341193207.hdf'\n",
      " '/Users/dprakas1/Desktop/modis_files/MYD06_L2.A2008001.0010.006.2013341192125.hdf']\n",
      "['/Users/dprakas1/Desktop/modis_files/MYD03.A2008001.0000.006.2012066122450.hdf'\n",
      " '/Users/dprakas1/Desktop/modis_files/MYD03.A2008001.0005.006.2012066122516.hdf'\n",
      " '/Users/dprakas1/Desktop/modis_files/MYD03.A2008001.0010.006.2012066122416.hdf']\n"
     ]
    },
    {
     "data": {
      "text/plain": [
       "(2030, 1354)"
      ]
     },
     "execution_count": 4,
     "metadata": {},
     "output_type": "execute_result"
    }
   ],
   "source": [
    "MYD06_dir= '/Users/dprakas1/Desktop/modis_files/'\n",
    "MYD06_prefix = 'MYD06_L2.A2008'\n",
    "MYD03_dir= '/Users/dprakas1/Desktop/modis_files/'\n",
    "MYD03_prefix = 'MYD03.A2008'\n",
    "fileformat = 'hdf'\n",
    "\n",
    "fname1,fname2 = [],[]\n",
    "\n",
    "\n",
    "days = np.arange(1,31,dtype=np.int)\n",
    "for day in days:\n",
    "    dc ='%03i' % day\n",
    "    fname_tmp1 = read_filelist(MYD06_dir,MYD06_prefix,dc,fileformat)\n",
    "    fname_tmp2 = read_filelist(MYD03_dir,MYD03_prefix,dc,fileformat)\n",
    "    fname1 = np.append(fname1,fname_tmp1)\n",
    "    fname2 = np.append(fname2,fname_tmp2)\n",
    "\n",
    "# Initiate the number of day and total cloud fraction\n",
    "files  = np.arange(len(fname1))\n",
    "\n",
    "\n",
    "\n",
    "for j in range(0,1):#hdfs:\n",
    "    print('steps: ',j+1,'/ ',(fname1)) \n",
    "\n",
    "    # Read Level-2 MODIS data\n",
    "    lat,lon,CM = read_MODIS(fname1[j],fname2[j])\n",
    "print((fname2))\n",
    "#rint(CM)\n",
    "#lat = lat.ravel()\n",
    "#lon = lon.ravel()\n",
    "#CM  = CM.ravel()\n",
    "CM.shape"
   ]
  },
  {
   "cell_type": "code",
   "execution_count": 5,
   "metadata": {},
   "outputs": [
    {
     "name": "stdout",
     "output_type": "stream",
     "text": [
      "/Users/dprakas1/Desktop/modis_files/MYD06_L2.A2008001.0000.006.2013341193524.hdf /Users/dprakas1/Desktop/modis_files/MYD03.A2008001.0000.006.2012066122450.hdf\n",
      "CM intial shape: (2030, 1354)\n",
      "cm shape after ravel: (5497240,)\n",
      "Lat intial shape: (2030, 1354)\n",
      "lon intial shape: (2030, 1354)\n",
      "lat shape after con: (4060, 1354)\n",
      "lon shape after con: (4060, 1354)\n",
      "lat shape after ravel: (5497240,)\n",
      "lon shape after ravel: (5497240,)\n",
      "<class 'dask.dataframe.core.DataFrame'>\n",
      "<class 'dask.dataframe.core.DataFrame'>\n"
     ]
    },
    {
     "name": "stderr",
     "output_type": "stream",
     "text": [
      "/Users/dprakas1/anaconda3/lib/python3.7/site-packages/ipykernel_launcher.py:48: UserWarning: `meta` is not specified, inferred from partial data. Please provide `meta` if the result is unexpected.\n",
      "  Before: .apply(func)\n",
      "  After:  .apply(func, meta={'x': 'f8', 'y': 'f8'}) for dataframe result\n",
      "  or:     .apply(func, meta=('x', 'f8'))            for series result\n"
     ]
    },
    {
     "name": "stdout",
     "output_type": "stream",
     "text": [
      "/Users/dprakas1/Desktop/modis_files/MYD06_L2.A2008001.0005.006.2013341193207.hdf /Users/dprakas1/Desktop/modis_files/MYD03.A2008001.0005.006.2012066122516.hdf\n",
      "CM intial shape: (2030, 1354)\n",
      "cm shape after ravel: (5497240,)\n",
      "Lat intial shape: (2030, 1354)\n",
      "lon intial shape: (2030, 1354)\n",
      "lat shape after con: (4060, 1354)\n",
      "lon shape after con: (4060, 1354)\n",
      "lat shape after ravel: (5497240,)\n",
      "lon shape after ravel: (5497240,)\n",
      "<class 'dask.dataframe.core.DataFrame'>\n",
      "<class 'dask.dataframe.core.DataFrame'>\n"
     ]
    },
    {
     "name": "stderr",
     "output_type": "stream",
     "text": [
      "/Users/dprakas1/anaconda3/lib/python3.7/site-packages/ipykernel_launcher.py:48: UserWarning: `meta` is not specified, inferred from partial data. Please provide `meta` if the result is unexpected.\n",
      "  Before: .apply(func)\n",
      "  After:  .apply(func, meta={'x': 'f8', 'y': 'f8'}) for dataframe result\n",
      "  or:     .apply(func, meta=('x', 'f8'))            for series result\n"
     ]
    },
    {
     "name": "stdout",
     "output_type": "stream",
     "text": [
      "/Users/dprakas1/Desktop/modis_files/MYD06_L2.A2008001.0010.006.2013341192125.hdf /Users/dprakas1/Desktop/modis_files/MYD03.A2008001.0010.006.2012066122416.hdf\n",
      "CM intial shape: (2030, 1354)\n",
      "cm shape after ravel: (5497240,)\n",
      "Lat intial shape: (2030, 1354)\n",
      "lon intial shape: (2030, 1354)\n",
      "lat shape after con: (4060, 1354)\n",
      "lon shape after con: (4060, 1354)\n",
      "lat shape after ravel: (5497240,)\n",
      "lon shape after ravel: (5497240,)\n",
      "<class 'dask.dataframe.core.DataFrame'>\n",
      "<class 'dask.dataframe.core.DataFrame'>\n"
     ]
    },
    {
     "name": "stderr",
     "output_type": "stream",
     "text": [
      "/Users/dprakas1/anaconda3/lib/python3.7/site-packages/ipykernel_launcher.py:48: UserWarning: `meta` is not specified, inferred from partial data. Please provide `meta` if the result is unexpected.\n",
      "  Before: .apply(func)\n",
      "  After:  .apply(func, meta={'x': 'f8', 'y': 'f8'}) for dataframe result\n",
      "  or:     .apply(func, meta=('x', 'f8'))            for series result\n"
     ]
    }
   ],
   "source": [
    "b1=[]\n",
    "cloud_pix = np.zeros((180, 360))\n",
    "for x,y in zip(fname1,fname2):\n",
    "    cm = np.zeros((2030,1354), dtype=np.float32)\n",
    "    lat = np.zeros((2030,1354), dtype=np.float32)\n",
    "    lon = np.zeros((2030,1354), dtype=np.float32)\n",
    "    print(x,y)\n",
    "    myd06 = Dataset(x, \"r\")\n",
    "    CM = myd06.variables[\"Cloud_Mask_1km\"][:,:,0]# Reading Specific Variable 'Cloud_Mask_1km'.\n",
    "    CM = (np.array(CM,dtype='byte') & 0b00000110) >>1\n",
    "    CM = np.array(CM).byteswap().newbyteorder()\n",
    "    print(\"CM intial shape:\",CM.shape)\n",
    "    cm = da.concatenate((cm,CM),axis=0)\n",
    "    #print(\"CM shape after con:\",cm.shape)\n",
    "    cm=da.ravel(cm)\n",
    "    print(\"cm shape after ravel:\",cm.shape)\n",
    "    myd03 = Dataset(y, \"r\")\n",
    "    latitude = myd03.variables[\"Latitude\"][:,:]\n",
    "    longitude = myd03.variables[\"Longitude\"][:,:]\n",
    "    print(\"Lat intial shape:\",latitude.shape)\n",
    "    print(\"lon intial shape:\",longitude.shape)\n",
    "    \n",
    "    \n",
    "    lat = da.concatenate((lat,latitude),axis=0)\n",
    "    lon = da.concatenate((lon,longitude),axis=0)\n",
    "    print(\"lat shape after con:\",lat.shape)\n",
    "    print(\"lon shape after con:\",lon.shape)\n",
    "    \n",
    "    lat=da.ravel(lat)\n",
    "    lon=da.ravel(lon)\n",
    "    \n",
    "    print(\"lat shape after ravel:\",lat.shape)\n",
    "    print(\"lon shape after ravel:\",lon.shape)\n",
    "    cm=cm.astype(int)\n",
    "    lon=lon.astype(int)\n",
    "    lat=lat.astype(int)\n",
    "    \n",
    "    Lat=lat.to_dask_dataframe()\n",
    "    Lon=lon.to_dask_dataframe()\n",
    "    CM=cm.to_dask_dataframe()\n",
    "    df=dd.concat([Lat,Lon,CM],axis=1,interleave_partitions=False)\n",
    "    print(type(df))\n",
    "    \n",
    "    cols = {0:'Latitude',1:'Longitude',2:'CM'}\n",
    "    df = df.rename(columns=cols)\n",
    "    \n",
    "    df2=df.groupby(['Longitude','Latitude']).CM.apply(countzero).reset_index()\n",
    "    print(type(df2))\n",
    "    df3=df2.compute()\n",
    "    \n",
    "    df4=[df3['Longitude'].values,df3['Latitude'].values,df3['CM'].values]\n",
    "    \n",
    "    b1.append(df4)\n",
    "    \n",
    "    "
   ]
  },
  {
   "cell_type": "code",
   "execution_count": 6,
   "metadata": {},
   "outputs": [
    {
     "data": {
      "text/plain": [
       "list"
      ]
     },
     "execution_count": 6,
     "metadata": {},
     "output_type": "execute_result"
    }
   ],
   "source": [
    "type(b1)"
   ]
  },
  {
   "cell_type": "code",
   "execution_count": 9,
   "metadata": {},
   "outputs": [],
   "source": [
    "cf = np.zeros((180,360))\n",
    "cf[:]=np.nan\n",
    "for i in range(len(b1[2])):\n",
    "    #cf[(b1[i][1]),(b1[i][0])] = b1[i][2]\n",
    "    cf[(b1[i][1]-90),(180+b1[i][0])] = b1[i][2]"
   ]
  },
  {
   "cell_type": "code",
   "execution_count": 10,
   "metadata": {},
   "outputs": [
    {
     "data": {
      "image/png": "[encoded data removed]",
      "text/plain": [
       "<Figure size 432x288 with 2 Axes>"
      ]
     },
     "metadata": {
      "needs_background": "light"
     },
     "output_type": "display_data"
    }
   ],
   "source": [
    "import numpy as np\n",
    "import matplotlib.pyplot as plt\n",
    "import matplotlib as mpl\n",
    "import matplotlib.cm as cm\n",
    "import calendar\n",
    "import pprint\n",
    "data = cf\n",
    "\n",
    "data_shape = data.shape\n",
    "\n",
    "cmap = [(0.0,0.0,0.0)] + [(cm.jet(i)) for i in range(1,256)] \n",
    "cmap = mpl.colors.ListedColormap(cmap)\n",
    "\n",
    "bounds = [0.0, 0.1, 0.2 , 0.3 , 0.4, 0.5, 0.6, 0.7, 0.8, 0.9, 1.0]\n",
    "\n",
    "norm = mpl.colors.BoundaryNorm(bounds, cmap.N)\n",
    "\n",
    "img = plt.imshow(np.fliplr(data), cmap=cmap, norm=norm,\n",
    "                  interpolation='none', origin='lower')\n",
    "\n",
    "cbar_bounds = [0.0, 0.1, 0.2 , 0.3 , 0.4, 0.5, 0.6, 0.7, 0.8, 0.9, 1.0]\n",
    "cbar_ticks = [0.0, 0.1, 0.2 , 0.3 , 0.4, 0.5, 0.6, 0.7, 0.8, 0.9, 1.0]             \n",
    "               \n",
    "cbar = plt.colorbar(img, cmap=cmap, norm=norm, boundaries=cbar_bounds, ticks=cbar_ticks)\n",
    "cbar.ax.set_yticklabels(cbar_ticks, fontsize=10)\n",
    "\n",
    "l = [int(i) for i in np.linspace(0,data_shape[1],6)]\n",
    "plt.xticks(l, [i for i in reversed(l)], rotation=0, fontsize=8 )\n",
    "\n",
    "l = [int(i) for i in np.linspace(0,data_shape[0],9)]\n",
    "plt.yticks(l, l, rotation=0, fontsize=8 )\n",
    "\n",
    "title = 'Cloud Fraction \\n MYD06 C6 ({}-{:02d}-{:02d}; {:02d}h{:02d})'\n",
    "#plt.title(title.format( year, month, day, hh, mm), fontsize=10)\n",
    "plt.show()"
   ]
  },
  {
   "cell_type": "code",
   "execution_count": null,
   "metadata": {},
   "outputs": [],
   "source": []
  }
 ],
 "metadata": {
  "kernelspec": {
   "display_name": "Python 3",
   "language": "python",
   "name": "python3"
  },
  "language_info": {
   "codemirror_mode": {
    "name": "ipython",
    "version": 3
   },
   "file_extension": ".py",
   "mimetype": "text/x-python",
   "name": "python",
   "nbconvert_exporter": "python",
   "pygments_lexer": "ipython3",
   "version": "3.7.3"
  }
 },
 "nbformat": 4,
 "nbformat_minor": 2
}
